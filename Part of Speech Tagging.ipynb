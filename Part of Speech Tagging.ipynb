{
 "cells": [
  {
   "cell_type": "code",
   "execution_count": 4,
   "id": "a78e075b-70a1-449d-b5c4-862408b25aa3",
   "metadata": {},
   "outputs": [
    {
     "name": "stdout",
     "output_type": "stream",
     "text": [
      "All Tagged Words:\n",
      "[('This', 'DT'), ('is', 'VBZ'), ('a', 'DT'), ('simple', 'JJ'), ('example', 'NN'), ('to', 'TO'), ('demonstrate', 'VB'), ('part', 'NN'), ('of', 'IN'), ('speech', 'NN'), ('tagging', 'VBG'), ('with', 'IN'), ('stop', 'JJ'), ('words', 'NNS'), ('.', '.')]\n",
      "\n",
      "Tagged Stop Words:\n",
      "[('This', 'DT'), ('is', 'VBZ'), ('a', 'DT'), ('to', 'TO'), ('of', 'IN'), ('with', 'IN')]\n",
      "\n",
      "Tagged Non-Stop Words:\n",
      "[('simple', 'JJ'), ('example', 'NN'), ('demonstrate', 'VB'), ('part', 'NN'), ('speech', 'NN'), ('tagging', 'VBG'), ('stop', 'JJ'), ('words', 'NNS'), ('.', '.')]\n"
     ]
    },
    {
     "name": "stderr",
     "output_type": "stream",
     "text": [
      "[nltk_data] Downloading package punkt to\n",
      "[nltk_data]     C:\\Users\\Sanga\\AppData\\Roaming\\nltk_data...\n",
      "[nltk_data]   Package punkt is already up-to-date!\n",
      "[nltk_data] Downloading package averaged_perceptron_tagger to\n",
      "[nltk_data]     C:\\Users\\Sanga\\AppData\\Roaming\\nltk_data...\n",
      "[nltk_data]   Package averaged_perceptron_tagger is already up-to-\n",
      "[nltk_data]       date!\n",
      "[nltk_data] Downloading package stopwords to\n",
      "[nltk_data]     C:\\Users\\Sanga\\AppData\\Roaming\\nltk_data...\n",
      "[nltk_data]   Package stopwords is already up-to-date!\n"
     ]
    }
   ],
   "source": [
    "import nltk\n",
    "from nltk.tokenize import word_tokenize\n",
    "from nltk.corpus import stopwords\n",
    "\n",
    "# Download necessary NLTK data\n",
    "nltk.download('punkt')\n",
    "nltk.download('averaged_perceptron_tagger')\n",
    "nltk.download('stopwords')\n",
    "\n",
    "def pos_tagging_with_stopwords(text):\n",
    "    # Tokenize the text\n",
    "    tokens = word_tokenize(text)\n",
    "    \n",
    "    # Get the stop words for English\n",
    "    stop_words = set(stopwords.words('english'))\n",
    "    \n",
    "    # Separate stop words and non-stop words\n",
    "    stopword_tokens = [word for word in tokens if word.lower() in stop_words]\n",
    "    non_stopword_tokens = [word for word in tokens if word.lower() not in stop_words]\n",
    "    \n",
    "    # Perform POS tagging\n",
    "    tagged_words = nltk.pos_tag(tokens)\n",
    "    tagged_stopwords = [(word, tag) for word, tag in tagged_words if word.lower() in stop_words]\n",
    "    tagged_non_stopwords = [(word, tag) for word, tag in tagged_words if word.lower() not in stop_words]\n",
    "    \n",
    "    return {\n",
    "        \"all_tagged_words\": tagged_words,\n",
    "        \"tagged_stopwords\": tagged_stopwords,\n",
    "        \"tagged_non_stopwords\": tagged_non_stopwords\n",
    "    }\n",
    "\n",
    "# Example input text\n",
    "text = \"This is a simple example to demonstrate part of speech tagging with stop words.\"\n",
    "\n",
    "# Perform POS tagging\n",
    "results = pos_tagging_with_stopwords(text)\n",
    "\n",
    "# Display results\n",
    "print(\"All Tagged Words:\")\n",
    "print(results[\"all_tagged_words\"])\n",
    "print(\"\\nTagged Stop Words:\")\n",
    "print(results[\"tagged_stopwords\"])\n",
    "print(\"\\nTagged Non-Stop Words:\")\n",
    "print(results[\"tagged_non_stopwords\"])\n"
   ]
  },
  {
   "cell_type": "code",
   "execution_count": null,
   "id": "efd9eb24-adf7-4b9c-8e61-6219fbb76060",
   "metadata": {},
   "outputs": [],
   "source": []
  }
 ],
 "metadata": {
  "kernelspec": {
   "display_name": "Python 3 (ipykernel)",
   "language": "python",
   "name": "python3"
  },
  "language_info": {
   "codemirror_mode": {
    "name": "ipython",
    "version": 3
   },
   "file_extension": ".py",
   "mimetype": "text/x-python",
   "name": "python",
   "nbconvert_exporter": "python",
   "pygments_lexer": "ipython3",
   "version": "3.13.0"
  }
 },
 "nbformat": 4,
 "nbformat_minor": 5
}
