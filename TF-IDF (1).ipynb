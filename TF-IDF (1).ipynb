{
 "cells": [
  {
   "cell_type": "code",
   "execution_count": 2,
   "id": "a187d387-1fb7-46bf-b8eb-d2dd5fef267c",
   "metadata": {},
   "outputs": [
    {
     "name": "stdout",
     "output_type": "stream",
     "text": [
      "TF-IDF Matrix:\n",
      "        and      both  computational  fascinating     field        is  \\\n",
      "0  0.000000  0.000000       0.000000     0.379945  0.379945  0.379945   \n",
      "1  0.342620  0.000000       0.000000     0.000000  0.000000  0.000000   \n",
      "2  0.298174  0.392063       0.392063     0.000000  0.000000  0.000000   \n",
      "\n",
      "   language  linguistic    models   natural        of   process  processing  \\\n",
      "0  0.224401    0.000000  0.000000  0.379945  0.379945  0.000000    0.288958   \n",
      "1  0.266075    0.000000  0.450504  0.000000  0.000000  0.450504    0.000000   \n",
      "2  0.231559    0.392063  0.000000  0.000000  0.000000  0.000000    0.298174   \n",
      "\n",
      "   requires    skills    speech     study      text  \n",
      "0  0.000000  0.000000  0.000000  0.379945  0.000000  \n",
      "1  0.000000  0.000000  0.450504  0.000000  0.450504  \n",
      "2  0.392063  0.392063  0.000000  0.000000  0.000000  \n"
     ]
    }
   ],
   "source": [
    "from sklearn.feature_extraction.text import TfidfVectorizer\n",
    "import pandas as pd\n",
    "\n",
    "def calculate_tfidf(documents):\n",
    "    vectorizer = TfidfVectorizer()\n",
    "    \n",
    "    tfidf_matrix = vectorizer.fit_transform(documents)\n",
    "    \n",
    "    terms = vectorizer.get_feature_names_out()\n",
    "    tfidf_df = pd.DataFrame(tfidf_matrix.toarray(), columns=terms)\n",
    "    \n",
    "    return tfidf_df\n",
    "\n",
    "documents = [\n",
    "    \"Natural Language Processing is a fascinating field of study.\",\n",
    "    \"Language models process text and speech.\",\n",
    "    \"Processing language requires both computational and linguistic skills.\"\n",
    "]\n",
    "\n",
    "tfidf_result = calculate_tfidf(documents)\n",
    "\n",
    "print(\"TF-IDF Matrix:\")\n",
    "print(tfidf_result)\n"
   ]
  },
  {
   "cell_type": "code",
   "execution_count": null,
   "id": "f6c8bfa6-70bd-492c-a3a5-35d3ffb65107",
   "metadata": {},
   "outputs": [],
   "source": []
  }
 ],
 "metadata": {
  "kernelspec": {
   "display_name": "Python 3 (ipykernel)",
   "language": "python",
   "name": "python3"
  },
  "language_info": {
   "codemirror_mode": {
    "name": "ipython",
    "version": 3
   },
   "file_extension": ".py",
   "mimetype": "text/x-python",
   "name": "python",
   "nbconvert_exporter": "python",
   "pygments_lexer": "ipython3",
   "version": "3.13.0"
  }
 },
 "nbformat": 4,
 "nbformat_minor": 5
}
