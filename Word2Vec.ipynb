{
 "cells": [
  {
   "cell_type": "code",
   "execution_count": 3,
   "id": "b0af9ec6-6286-4271-94e3-3317de3f6c7b",
   "metadata": {},
   "outputs": [
    {
     "ename": "ModuleNotFoundError",
     "evalue": "No module named 'gensim'",
     "output_type": "error",
     "traceback": [
      "\u001b[1;31m---------------------------------------------------------------------------\u001b[0m",
      "\u001b[1;31mModuleNotFoundError\u001b[0m                       Traceback (most recent call last)",
      "Cell \u001b[1;32mIn[3], line 3\u001b[0m\n\u001b[0;32m      1\u001b[0m \u001b[38;5;28;01mimport\u001b[39;00m \u001b[38;5;21;01mnltk\u001b[39;00m\n\u001b[0;32m      2\u001b[0m \u001b[38;5;28;01mfrom\u001b[39;00m \u001b[38;5;21;01mnltk\u001b[39;00m\u001b[38;5;21;01m.\u001b[39;00m\u001b[38;5;21;01mtokenize\u001b[39;00m \u001b[38;5;28;01mimport\u001b[39;00m word_tokenize\n\u001b[1;32m----> 3\u001b[0m \u001b[38;5;28;01mfrom\u001b[39;00m \u001b[38;5;21;01mgensim\u001b[39;00m\u001b[38;5;21;01m.\u001b[39;00m\u001b[38;5;21;01mmodels\u001b[39;00m \u001b[38;5;28;01mimport\u001b[39;00m Word2Vec, FastText\n\u001b[0;32m      4\u001b[0m \u001b[38;5;28;01mfrom\u001b[39;00m \u001b[38;5;21;01mglove\u001b[39;00m \u001b[38;5;28;01mimport\u001b[39;00m Corpus, Glove\n\u001b[0;32m      6\u001b[0m \u001b[38;5;66;03m# Ensure you have the necessary NLTK resources\u001b[39;00m\n",
      "\u001b[1;31mModuleNotFoundError\u001b[0m: No module named 'gensim'"
     ]
    }
   ],
   "source": [
    "import nltk\n",
    "from nltk.tokenize import word_tokenize\n",
    "from gensim.models import Word2Vec, FastText\n",
    "from glove import Corpus, Glove\n",
    "\n",
    "# Ensure you have the necessary NLTK resources\n",
    "nltk.download('punkt')\n",
    "\n",
    "# Sample data\n",
    "toy_data = [\n",
    "    \"word embeddings are fascinating\",\n",
    "    \"word2vec captures semantic relationships\",\n",
    "    \"GloVe considers global context\",\n",
    "    \"FastText extends Word2Vec with subword information\"\n",
    "]\n",
    "\n",
    "# Function to preprocess and tokenize the data\n",
    "def preprocess_data(data):\n",
    "    return [word_tokenize(sentence.lower()) for sentence in data]\n",
    "\n",
    "# Function to train Word2Vec model\n",
    "def train_word2vec(data):\n",
    "    tokenized_sentences = preprocess_data(data)\n",
    "    model = Word2Vec(sentences=tokenized_sentences, vector_size=100, window=5, min_count=1, workers=4)\n",
    "    return model\n",
    "\n",
    "# Function to train GloVe model\n",
    "def train_glove(data):\n",
    "    tokenized_sentences = preprocess_data(data)\n",
    "    corpus = Corpus()\n",
    "    corpus.fit(tokenized_sentences, window=5)\n",
    "    glove = Glove(no_components=100, learning_rate=0.05)\n",
    "    glove.fit(corpus.matrix, epochs=30, no_threads=4, verbose=True)\n",
    "    return glove\n",
    "\n",
    "# Function to train FastText model\n",
    "def train_fasttext(data):\n",
    "    tokenized_sentences = preprocess_data(data)\n",
    "    model = FastText(sentences=tokenized_sentences, vector_size=100, window=5, min_count=1, workers=4)\n",
    "    return model\n",
    "\n",
    "# Main function to execute the training and display results\n",
    "def main():\n",
    "    # Train Word2Vec model\n",
    "    word2vec_model = train_word2vec(toy_data)\n",
    "    print(\"Word2Vec Embedding for 'word':\", word2vec_model.wv['word'])\n",
    "\n",
    "    # Train GloVe model\n",
    "    glove_model = train_glove(toy_data)\n",
    "    word = \"glove\"\n",
    "    if word in glove_model.dictionary:\n",
    "        embedding = glove_model.word_vectors[glove_model.dictionary[word]]\n",
    "        print(\"GloVe Embedding for 'glove':\", embedding)\n",
    "    else:\n",
    "        print(f\"'{word}' not found in GloVe model.\")\n",
    "\n",
    "    # Train FastText model\n",
    "    fasttext_model = train_fasttext(toy_data)\n",
    "    print(\"FastText Embedding for 'fasttext':\", fasttext_model.wv['fasttext'])\n",
    "\n",
    "if __name__ == \"__main__\":\n",
    "    main()"
   ]
  },
  {
   "cell_type": "code",
   "execution_count": null,
   "id": "192a48b4-b788-4451-a7b1-09cba3e7f05c",
   "metadata": {},
   "outputs": [],
   "source": []
  }
 ],
 "metadata": {
  "kernelspec": {
   "display_name": "Python 3 (ipykernel)",
   "language": "python",
   "name": "python3"
  },
  "language_info": {
   "codemirror_mode": {
    "name": "ipython",
    "version": 3
   },
   "file_extension": ".py",
   "mimetype": "text/x-python",
   "name": "python",
   "nbconvert_exporter": "python",
   "pygments_lexer": "ipython3",
   "version": "3.13.0"
  }
 },
 "nbformat": 4,
 "nbformat_minor": 5
}
